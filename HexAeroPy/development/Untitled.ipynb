{
 "cells": [
  {
   "cell_type": "code",
   "execution_count": 12,
   "id": "fa6469a4-663d-4327-84ae-c1fe9bf78c8d",
   "metadata": {},
   "outputs": [],
   "source": []
  },
  {
   "cell_type": "code",
   "execution_count": 5,
   "id": "f8122df9-1365-4109-a6a5-63ba2784357b",
   "metadata": {},
   "outputs": [
    {
     "data": {
      "text/plain": [
       "\u001b[0;31mSignature:\u001b[0m \u001b[0mglob\u001b[0m\u001b[0;34m.\u001b[0m\u001b[0mglob\u001b[0m\u001b[0;34m(\u001b[0m\u001b[0mpathname\u001b[0m\u001b[0;34m,\u001b[0m \u001b[0;34m*\u001b[0m\u001b[0;34m,\u001b[0m \u001b[0mrecursive\u001b[0m\u001b[0;34m=\u001b[0m\u001b[0;32mFalse\u001b[0m\u001b[0;34m)\u001b[0m\u001b[0;34m\u001b[0m\u001b[0;34m\u001b[0m\u001b[0m\n",
       "\u001b[0;31mDocstring:\u001b[0m\n",
       "Return a list of paths matching a pathname pattern.\n",
       "\n",
       "The pattern may contain simple shell-style wildcards a la\n",
       "fnmatch. However, unlike fnmatch, filenames starting with a\n",
       "dot are special cases that are not matched by '*' and '?'\n",
       "patterns.\n",
       "\n",
       "If recursive is true, the pattern '**' will match any files and\n",
       "zero or more directories and subdirectories.\n",
       "\u001b[0;31mFile:\u001b[0m      /usr/local/lib/python3.9/glob.py\n",
       "\u001b[0;31mType:\u001b[0m      function\n"
      ]
     },
     "metadata": {},
     "output_type": "display_data"
    }
   ],
   "source": [
    "glob.glob?"
   ]
  },
  {
   "cell_type": "code",
   "execution_count": null,
   "id": "2b07ae5c-ad2b-4884-ae74-7752e3b012d9",
   "metadata": {},
   "outputs": [],
   "source": [
    "\n",
    "\n",
    "# Read each parquet file and concatenate them into a single DataFrame\n",
    "df_list = [pd.read_parquet(file) for file in files]\n",
    "concatenated_df = pd.concat(df_list, ignore_index=True)"
   ]
  }
 ],
 "metadata": {
  "kernelspec": {
   "display_name": "Python 3 (ipykernel)",
   "language": "python",
   "name": "python3"
  },
  "language_info": {
   "codemirror_mode": {
    "name": "ipython",
    "version": 3
   },
   "file_extension": ".py",
   "mimetype": "text/x-python",
   "name": "python",
   "nbconvert_exporter": "python",
   "pygments_lexer": "ipython3",
   "version": "3.9.11"
  }
 },
 "nbformat": 4,
 "nbformat_minor": 5
}
